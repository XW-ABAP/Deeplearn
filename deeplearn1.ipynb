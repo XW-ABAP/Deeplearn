{
 "cells": [
  {
   "cell_type": "code",
   "execution_count": 2,
   "metadata": {},
   "outputs": [
    {
     "name": "stdout",
     "output_type": "stream",
     "text": [
      "tensor([ 0,  1,  2,  3,  4,  5,  6,  7,  8,  9, 10, 11])\n",
      "torch.Size([12])\n",
      "tensor([[ 0,  1,  2,  3],\n",
      "        [ 4,  5,  6,  7],\n",
      "        [ 8,  9, 10, 11]])\n",
      "tensor([[[0., 0., 0., 0.],\n",
      "         [0., 0., 0., 0.],\n",
      "         [0., 0., 0., 0.]],\n",
      "\n",
      "        [[0., 0., 0., 0.],\n",
      "         [0., 0., 0., 0.],\n",
      "         [0., 0., 0., 0.]]])\n",
      "tensor([[[1., 1., 1., 1.],\n",
      "         [1., 1., 1., 1.],\n",
      "         [1., 1., 1., 1.]],\n",
      "\n",
      "        [[1., 1., 1., 1.],\n",
      "         [1., 1., 1., 1.],\n",
      "         [1., 1., 1., 1.]]])\n",
      "tensor([[ 0.9768,  0.2387, -0.6481, -0.8569],\n",
      "        [ 1.5381,  0.2890,  0.2874, -1.7051],\n",
      "        [ 1.8424,  1.9824,  1.2392,  1.1268]])\n",
      "tensor([[2, 1, 4, 3],\n",
      "        [1, 2, 3, 4],\n",
      "        [4, 3, 2, 1]])\n"
     ]
    }
   ],
   "source": [
    "import torch\n",
    "# 导入 PyTorch 库，PyTorch 是一个用于深度学习和张量计算的强大库\n",
    "\n",
    "x = torch.arange(12)\n",
    "# 创建一个包含从 0 到 11 的整数的一维张量 x\n",
    "# torch.arange 函数用于生成一个指定范围的整数序列\n",
    "\n",
    "print(x)\n",
    "# 打印张量 x 的内容\n",
    "\n",
    "print(x.shape)\n",
    "# 打印张量 x 的形状\n",
    "# 形状表示张量在每个维度上的大小，这里输出 (12,) 表示一维张量有 12 个元素\n",
    "\n",
    "x.numel()\n",
    "# 获取张量 x 中元素的总数\n",
    "# 这里 x 有 12 个元素，但代码未对该结果进行打印输出\n",
    "\n",
    "X = x.reshape(3, 4)\n",
    "# 将一维张量 x 重塑为一个 3 行 4 列的二维张量 X\n",
    "# reshape 方法在不改变元素总数的情况下改变张量的形状\n",
    "\n",
    "print(X)\n",
    "# 打印重塑后的二维张量 X\n",
    "\n",
    "Xzero = torch.zeros((2, 3, 4))\n",
    "# 创建一个形状为 (2, 3, 4) 的三维张量 Xzero\n",
    "# torch.zeros 函数用于创建所有元素都为 0 的张量\n",
    "\n",
    "print(Xzero)\n",
    "# 打印全零的三维张量 Xzero\n",
    "\n",
    "Xone = torch.ones((2, 3, 4))\n",
    "# 创建一个形状为 (2, 3, 4) 的三维张量 Xone\n",
    "# torch.ones 函数用于创建所有元素都为 1 的张量\n",
    "\n",
    "print(Xone)\n",
    "# 打印全一的三维张量 Xone\n",
    "\n",
    "\n",
    "# 有时我们想通过从某个特定的概率分布中随机采样来得到张量中每个元素的值。例如，当我们构造数组来作\n",
    "# 为神经网络中的参数时，我们通常会随机初始化参数的值。以下代码创建一个形状为（3,4）的张量。其中的\n",
    "# 每个元素都从均值为0、标准差为1的标准高斯分布（正态分布）中随机采样。\n",
    "Xrandn = torch.randn(3, 4)\n",
    "# 创建一个形状为 (3, 4) 的二维张量 Xrandn\n",
    "# torch.randn 函数用于创建元素从标准正态分布（均值为 0，标准差为 1）中随机采样得到的张量\n",
    "\n",
    "print(Xrandn)\n",
    "# 打印随机生成的二维张量 Xrandn\n",
    "\n",
    "\n",
    "\n",
    "\n",
    "xtensor = torch.tensor([[2, 1, 4, 3], [1, 2, 3, 4], [4, 3, 2, 1]])\n",
    "\n",
    "print(xtensor)"
   ]
  },
  {
   "cell_type": "code",
   "execution_count": 3,
   "metadata": {},
   "outputs": [
    {
     "name": "stdout",
     "output_type": "stream",
     "text": [
      "tensor([ 3.,  4.,  6., 10.])\n",
      "tensor([-1.,  0.,  2.,  6.])\n",
      "tensor([ 2.,  4.,  8., 16.])\n",
      "tensor([0.5000, 1.0000, 2.0000, 4.0000])\n",
      "tensor([ 1.,  4., 16., 64.])\n",
      "tensor([2.7183e+00, 7.3891e+00, 5.4598e+01, 2.9810e+03])\n"
     ]
    }
   ],
   "source": [
    "import torch\n",
    "# 导入 PyTorch 库，PyTorch 是一个用于深度学习和张量计算的强大库\n",
    "\n",
    "\n",
    "x = torch.tensor([1.0,2,4,8])\n",
    "y = torch.tensor([2,2,2,2])\n",
    "\n",
    "print(f\"{x + y}\\n{x - y}\\n{x * y}\\n{x / y}\\n{x ** y}\")\n",
    "\n",
    "print(torch.exp(x))"
   ]
  },
  {
   "cell_type": "code",
   "execution_count": 4,
   "metadata": {},
   "outputs": [
    {
     "data": {
      "text/plain": [
       "tensor([[False,  True, False,  True],\n",
       "        [False, False, False, False],\n",
       "        [False, False, False, False]])"
      ]
     },
     "execution_count": 4,
     "metadata": {},
     "output_type": "execute_result"
    }
   ],
   "source": [
    "import torch\n",
    "# 导入 PyTorch 库，用于张量计算和深度学习\n",
    "\n",
    "# 创建第一个张量 X\n",
    "X = torch.arange(12, dtype=torch.float32).reshape((3,4))\n",
    "# 解释：\n",
    "# 1. torch.arange(12) 生成一个从 0 到 11 的整数序列\n",
    "# 2. dtype=torch.float32 将数据类型转换为 32 位浮点数\n",
    "# 3. reshape((3,4)) 将一维张量重塑为 3 行 4 列的二维张量\n",
    "# 输出示例：\n",
    "# tensor([[ 0.,  1.,  2.,  3.],\n",
    "#         [ 4.,  5.,  6.,  7.],\n",
    "#         [ 8.,  9., 10., 11.]])\n",
    "\n",
    "# 创建第二个张量 Y\n",
    "Y = torch.tensor([[2.0, 1, 4, 3], [1, 2, 3, 4], [4, 3, 2, 1]])\n",
    "# 解释：\n",
    "# 手动创建一个 3 行 4 列的二维张量，元素为浮点数\n",
    "# 输出示例：\n",
    "# tensor([[2., 1., 4., 3.],\n",
    "#         [1., 2., 3., 4.],\n",
    "#         [4., 3., 2., 1.]])\n",
    "\n",
    "# 沿不同维度拼接张量 X 和 Y\n",
    "torch.cat((X, Y), dim=0), torch.cat((X, Y), dim=1)\n",
    "# 解释：\n",
    "# 1. torch.cat 是张量拼接函数\n",
    "# 2. (X, Y) 表示要拼接的两个张量\n",
    "# 3. dim 参数控制拼接维度：\n",
    "#    - dim=0（垂直拼接）：在行方向拼接，要求列数相同\n",
    "#    - dim=1（水平拼接）：在列方向拼接，要求行数相同\n",
    "# 输出示例：\n",
    "# 垂直拼接 (dim=0):\n",
    "# tensor([[ 0.,  1.,  2.,  3.],\n",
    "#         [ 4.,  5.,  6.,  7.],\n",
    "#         [ 8.,  9., 10., 11.],\n",
    "#         [ 2.,  1.,  4.,  3.],\n",
    "#         [ 1.,  2.,  3.,  4.],\n",
    "#         [ 4.,  3.,  2.,  1.]])\n",
    "\n",
    "# 水平拼接 (dim=1):\n",
    "# tensor([[ 0.,  1.,  2.,  3.,  2.,  1.,  4.,  3.],\n",
    "#         [ 4.,  5.,  6.,  7.,  1.,  2.,  3.,  4.],\n",
    "#         [ 8.,  9., 10., 11.,  4.,  3.,  2.,  1.]])\n",
    "\n",
    "\n",
    "X == Y\n",
    "\n",
    "\n"
   ]
  },
  {
   "cell_type": "code",
   "execution_count": 5,
   "metadata": {},
   "outputs": [
    {
     "data": {
      "text/plain": [
       "tensor(66.)"
      ]
     },
     "execution_count": 5,
     "metadata": {},
     "output_type": "execute_result"
    }
   ],
   "source": [
    "X.sum()"
   ]
  },
  {
   "cell_type": "code",
   "execution_count": 6,
   "metadata": {},
   "outputs": [
    {
     "data": {
      "text/plain": [
       "tensor([[0, 1],\n",
       "        [1, 2],\n",
       "        [2, 3]])"
      ]
     },
     "execution_count": 6,
     "metadata": {},
     "output_type": "execute_result"
    }
   ],
   "source": [
    "a = torch.arange(3).reshape((3, 1))\n",
    "# 创建一个包含从 0 到 2 的整数的一维张量，然后将其重塑为形状为 (3, 1) 的二维张量\n",
    "# 也就是说，会得到一个 3 行 1 列的二维张量，元素依次是 0、1、2\n",
    "# 示例输出：\n",
    "# tensor([[0],\n",
    "#         [1],\n",
    "#         [2]])\n",
    "\n",
    "b = torch.arange(2).reshape((1, 2))\n",
    "# 创建一个包含从 0 到 1 的整数的一维张量，接着将其重塑为形状为 (1, 2) 的二维张量\n",
    "# 也就是得到一个 1 行 2 列的二维张量，元素依次是 0、1\n",
    "# 示例输出：\n",
    "# tensor([[0, 1]])\n",
    "\n",
    "a, b\n",
    "# 这里会同时返回张量 a 和张量 b 的内容\n",
    "# 可以通过打印语句来查看结果，例如 print(a, b) \n",
    "\n",
    "\n",
    "a + b"
   ]
  },
  {
   "cell_type": "code",
   "execution_count": 7,
   "metadata": {},
   "outputs": [
    {
     "data": {
      "text/plain": [
       "(tensor([ 8.,  9., 10., 11.]),\n",
       " tensor([[ 4.,  5.,  6.,  7.],\n",
       "         [ 8.,  9., 10., 11.]]))"
      ]
     },
     "execution_count": 7,
     "metadata": {},
     "output_type": "execute_result"
    }
   ],
   "source": [
    "X[-1], X[1:3]"
   ]
  },
  {
   "cell_type": "code",
   "execution_count": 8,
   "metadata": {},
   "outputs": [
    {
     "data": {
      "text/plain": [
       "tensor([[ 0.,  1.,  2.,  3.],\n",
       "        [ 4.,  5.,  9.,  7.],\n",
       "        [ 8.,  9., 10., 11.]])"
      ]
     },
     "execution_count": 8,
     "metadata": {},
     "output_type": "execute_result"
    }
   ],
   "source": [
    "X[1, 2] = 9\n",
    "X"
   ]
  },
  {
   "cell_type": "code",
   "execution_count": 9,
   "metadata": {},
   "outputs": [
    {
     "data": {
      "text/plain": [
       "tensor([[12., 12., 12., 12.],\n",
       "        [12., 12., 12., 12.],\n",
       "        [ 8.,  9., 10., 11.]])"
      ]
     },
     "execution_count": 9,
     "metadata": {},
     "output_type": "execute_result"
    }
   ],
   "source": [
    "X[0:2, :] = 12\n",
    "X"
   ]
  },
  {
   "cell_type": "code",
   "execution_count": 10,
   "metadata": {},
   "outputs": [
    {
     "data": {
      "text/plain": [
       "False"
      ]
     },
     "execution_count": 10,
     "metadata": {},
     "output_type": "execute_result"
    }
   ],
   "source": [
    "before = id(Y)\n",
    "Y = Y + X\n",
    "id(Y) == before"
   ]
  },
  {
   "cell_type": "code",
   "execution_count": 11,
   "metadata": {},
   "outputs": [
    {
     "name": "stdout",
     "output_type": "stream",
     "text": [
      "id(Z): 1988851544016\n",
      "id(Z): 1988851544016\n"
     ]
    }
   ],
   "source": [
    "Z = torch.zeros_like(Y)\n",
    "print('id(Z):', id(Z))\n",
    "Z[:] = X + Y\n",
    "print('id(Z):', id(Z))"
   ]
  },
  {
   "cell_type": "code",
   "execution_count": 12,
   "metadata": {},
   "outputs": [
    {
     "data": {
      "text/plain": [
       "True"
      ]
     },
     "execution_count": 12,
     "metadata": {},
     "output_type": "execute_result"
    }
   ],
   "source": [
    "before = id(X)\n",
    "X += Y\n",
    "id(X) == before"
   ]
  },
  {
   "cell_type": "code",
   "execution_count": 13,
   "metadata": {},
   "outputs": [
    {
     "data": {
      "text/plain": [
       "(numpy.ndarray, torch.Tensor)"
      ]
     },
     "execution_count": 13,
     "metadata": {},
     "output_type": "execute_result"
    }
   ],
   "source": [
    "A = X.numpy()\n",
    "B = torch.tensor(A)\n",
    "type(A), type(B)"
   ]
  }
 ],
 "metadata": {
  "kernelspec": {
   "display_name": "Python 3",
   "language": "python",
   "name": "python3"
  },
  "language_info": {
   "codemirror_mode": {
    "name": "ipython",
    "version": 3
   },
   "file_extension": ".py",
   "mimetype": "text/x-python",
   "name": "python",
   "nbconvert_exporter": "python",
   "pygments_lexer": "ipython3",
   "version": "3.13.2"
  }
 },
 "nbformat": 4,
 "nbformat_minor": 2
}
